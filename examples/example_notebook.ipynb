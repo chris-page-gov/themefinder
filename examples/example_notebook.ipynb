{
 "cells": [
  {
   "cell_type": "code",
   "execution_count": null,
   "id": "0",
   "metadata": {},
   "outputs": [],
   "source": [
    "import pandas as pd\n",
    "import themefinder\n",
    "from langchain_openai import AzureChatOpenAI\n",
    "import string"
   ]
  },
  {
   "cell_type": "code",
   "execution_count": null,
   "id": "1",
   "metadata": {},
   "outputs": [],
   "source": [
    "# Define the question the responses are answering and load the response data\n",
    "\n",
    "question = \"What improvements would you most like to see in local public transportation?\"\n",
    "\n",
    "responses = pd.read_json(\"./example_data.json\")"
   ]
  },
  {
   "cell_type": "code",
   "execution_count": null,
   "id": "2",
   "metadata": {},
   "outputs": [],
   "source": [
    "# Check the dataframe has the following columns: response_id, response\n",
    "# response_ids should start from 1\n",
    "responses"
   ]
  },
  {
   "cell_type": "code",
   "execution_count": null,
   "id": "3",
   "metadata": {},
   "outputs": [],
   "source": [
    "# Let's look at some sample responses to understand the variety of input data\n",
    "print(\"Sample responses about public transportation improvements:\\n\")\n",
    "for i in range(10):\n",
    "    print(f\"{responses.iloc[i]['response_id']}: {responses.iloc[i]['response']}\")\n",
    "    print()"
   ]
  },
  {
   "cell_type": "markdown",
   "id": "4",
   "metadata": {},
   "source": [
    "# Draft Email for IT Department - API Key Request\n",
    "\n",
    "**Subject:** Request for Azure OpenAI API Access for ThemeFinder Project\n",
    "\n",
    "---\n",
    "\n",
    "**To:** IT Support / Cloud Services Team  \n",
    "**From:** [Your Name]  \n",
    "**Date:** [Today's Date]  \n",
    "**Subject:** Request for Azure OpenAI API Access for ThemeFinder Project\n",
    "\n",
    "Dear IT Team,\n",
    "\n",
    "I am working on implementing **ThemeFinder**, an AI-powered topic modeling tool for analyzing survey responses and public consultation feedback. This tool will help our department process citizen feedback more efficiently and identify key themes in public responses.\n",
    "\n",
    "**Project Overview:**\n",
    "- **Tool:** ThemeFinder (Python package for topic modeling)\n",
    "- **Purpose:** Automated analysis of survey responses and consultation data\n",
    "- **Use Case:** Processing public feedback to identify themes and sentiment for policy makers\n",
    "- **Repository:** https://github.com/i-dot-ai/themefinder/\n",
    "\n",
    "**Required API Access:**\n",
    "I need access to Azure OpenAI services with the following configuration:\n",
    "\n",
    "**Option 1: Azure OpenAI (Preferred)**\n",
    "- `AZURE_OPENAI_API_KEY` - API key for our Azure OpenAI resource\n",
    "- `AZURE_OPENAI_ENDPOINT` - Endpoint URL (format: https://your-resource-name.openai.azure.com/)\n",
    "- `OPENAI_API_VERSION` - API version (recommend: 2024-02-15-preview)\n",
    "- `DEPLOYMENT_NAME` - Name of GPT-4o deployment\n",
    "- `AZURE_OPENAI_BASE_URL` - Base URL (same as endpoint)\n",
    "\n",
    "**Option 2: OpenAI Direct (Alternative)**\n",
    "- `OPENAI_API_KEY` - Direct OpenAI API key\n",
    "\n",
    "**Technical Requirements:**\n",
    "- Model access to GPT-4o or GPT-4 for optimal performance\n",
    "- The tool supports structured outputs and works with various LLM providers\n",
    "- Estimated usage: [specify your expected volume, e.g., \"processing 200-500 responses per analysis\"]\n",
    "- Environment: Development container setup with secure credential management\n",
    "\n",
    "**Security Considerations:**\n",
    "- All API keys will be stored in `.env` files (not committed to version control)\n",
    "- Development environment uses secure container isolation\n",
    "- Tool is designed for government/public sector use with appropriate data handling\n",
    "\n",
    "**Business Justification:**\n",
    "This tool will significantly improve our ability to:\n",
    "- Process large volumes of public consultation responses efficiently\n",
    "- Identify key themes and sentiment in citizen feedback automatically\n",
    "- Provide structured insights for policy decision-making\n",
    "- Reduce manual analysis time from days/weeks to hours\n",
    "\n",
    "**Next Steps:**\n",
    "Could you please advise on:\n",
    "1. The process for requesting Azure OpenAI access for our department\n",
    "2. Any security approvals or data governance requirements\n",
    "3. Whether we have existing Azure OpenAI resources I can use\n",
    "4. Timeline for provisioning access\n",
    "\n",
    "I'm happy to provide additional technical details or meet to discuss this request further.\n",
    "\n",
    "Thank you for your assistance.\n",
    "\n",
    "Best regards,  \n",
    "[Your Name]  \n",
    "[Your Department]  \n",
    "[Contact Information]\n",
    "\n",
    "---\n",
    "\n",
    "**Attachments to consider including:**\n",
    "- Link to ThemeFinder documentation: https://i-dot-ai.github.io/themefinder/\n",
    "- This notebook demonstrating the tool's capabilities"
   ]
  },
  {
   "cell_type": "code",
   "execution_count": null,
   "id": "5",
   "metadata": {},
   "outputs": [],
   "source": [
    "# Create the LLM object for your use-case e.g. ChatGoogleGenerativeAI if using Google's Gemini or ChatAnthropic for Claude\n",
    "# NOTE: make sure your .env file is correctly set up with the correct API key/any other variables you need\n",
    "\n",
    "llm = AzureChatOpenAI(\n",
    "    model_name=\"gpt-4o\",\n",
    "    temperature=0\n",
    ")"
   ]
  },
  {
   "cell_type": "code",
   "execution_count": null,
   "id": "6",
   "metadata": {},
   "outputs": [],
   "source": [
    "# Running the whole pipeline end-to-end in one go.\n",
    "results = await themefinder.find_themes(\n",
    "    responses, \n",
    "    llm=llm, \n",
    "    question=question,\n",
    "    )"
   ]
  },
  {
   "cell_type": "code",
   "execution_count": null,
   "id": "7",
   "metadata": {},
   "outputs": [],
   "source": [
    "results[\"themes\"]"
   ]
  },
  {
   "cell_type": "code",
   "execution_count": null,
   "id": "8",
   "metadata": {},
   "outputs": [],
   "source": [
    "# The results of each stage of the pipeline can be viewed by accessing the keys of the returned dictionary e.g.\n",
    "results[\"themes\"]\n",
    "# or\n",
    "results[\"mapping\"]"
   ]
  },
  {
   "cell_type": "code",
   "execution_count": null,
   "id": "9",
   "metadata": {},
   "outputs": [],
   "source": [
    "results[\"themes\"]"
   ]
  },
  {
   "cell_type": "code",
   "execution_count": null,
   "id": "10",
   "metadata": {},
   "outputs": [],
   "source": [
    "# If you want to modify the themes generated by the LLM such as merging similar themes or adding in new themes such as a default fallback theme like \"Other\", this can be done by directly modifying the themes and feeding them into the mapping stage of the pipeline.\n",
    "from themefinder import theme_mapping\n",
    "\n",
    "themes = results[\"themes\"][[\"topic_id\", \"topic\"]].copy()\n",
    "themes.loc[len(themes)] = {\"topic_id\": string.ascii_uppercase[len(themes)], \"topic\": \"Other: The response does not match any of the listed themes\"}"
   ]
  },
  {
   "cell_type": "code",
   "execution_count": null,
   "id": "11",
   "metadata": {},
   "outputs": [],
   "source": [
    "# It is possible for an LLM to be unable to process a response, if is too long or violates the models content filters, these responses can be reviewed in the 2nd element of the returned object for each task\n",
    "mapping, unprocessed = await theme_mapping(\n",
    "    responses,\n",
    "    llm=llm,\n",
    "    refined_themes_df=themes,\n",
    "    question=question,\n",
    ")"
   ]
  },
  {
   "cell_type": "code",
   "execution_count": null,
   "id": "12",
   "metadata": {},
   "outputs": [],
   "source": [
    "# To export the mapping to a spreadhseet\n",
    "mapping.to_excel(\"mapping.xlsx\")"
   ]
  }
 ],
 "metadata": {
  "kernelspec": {
   "display_name": "themefinder (3.12.5)",
   "language": "python",
   "name": "python3"
  },
  "language_info": {
   "codemirror_mode": {
    "name": "ipython",
    "version": 3
   },
   "file_extension": ".py",
   "mimetype": "text/x-python",
   "name": "python",
   "nbconvert_exporter": "python",
   "pygments_lexer": "ipython3",
   "version": "3.12.5"
  }
 },
 "nbformat": 4,
 "nbformat_minor": 5
}
